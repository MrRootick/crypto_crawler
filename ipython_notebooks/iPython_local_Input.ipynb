{
 "cells": [
  {
   "cell_type": "code",
   "execution_count": 1,
   "metadata": {
    "collapsed": true
   },
   "outputs": [],
   "source": [
    "import os\n",
    "import sys\n",
    "\n",
    "# Edit it and put full path for crypto_crawler python project\n",
    "CRYPTO_MODULE = \"C:\\Users\\Dmitry\\PycharmProjects\\untitled\"\n",
    "\n",
    "if CRYPTO_MODULE not in sys.path:\n",
    "    sys.path.append(CRYPTO_MODULE)\n",
    "    \n",
    "# for b in sys.path:\n",
    "#    print b"
   ]
  },
  {
   "cell_type": "code",
   "execution_count": 2,
   "metadata": {
    "collapsed": true
   },
   "outputs": [],
   "source": [
    "from dao.db import init_pg_connection\n",
    "pg_conn = init_pg_connection(_db_host=\"orders.cervsj06c8zw.us-west-1.rds.amazonaws.com\",\n",
    "                                 _db_port=5432, _db_name=\"crypto\")"
   ]
  },
  {
   "cell_type": "code",
   "execution_count": 3,
   "metadata": {
    "collapsed": true
   },
   "outputs": [],
   "source": [
    "from utils.time_utils import get_now_seconds_utc\n",
    "\n",
    "# Before stage of analysis we will try to update our db from info from exchange\n",
    "should_fetch_data = True\n",
    "\n",
    "# Epoch format !\n",
    "time_end = get_now_seconds_utc()\n",
    "time_start = time_end - 8 * 24 * 60 * 60\n",
    "\n",
    "api_key_full_path = \"C:\\Users\\Dmitry\\PycharmProjects\\untitled\\secret_keys\"\n",
    "logs_path = \"c:\\Users\\Dmitry\\Desktop\""
   ]
  },
  {
   "cell_type": "code",
   "execution_count": null,
   "metadata": {
    "collapsed": true
   },
   "outputs": [],
   "source": [
    "from analysis.profit_report_analysis import compute_loss, compute_profit_by_pair, save_report\n",
    "\n",
    "profit_by_pairs = Counter()\n",
    "profit_by_pair_bitcoins = Counter()\n",
    "\n",
    "for pair_id in trades_to_order:\n",
    "    profit_by_pairs[pair_id], profit_by_pair_bitcoins[pair_id] = compute_profit_by_pair(pair_id, trades_to_order[pair_id])\n",
    "\n",
    "overall_profit = sum(profit_by_pair_bitcoins.itervalues())\n",
    "\n",
    "loss_by_pair, loss_by_pair_bitcoin = compute_loss(orders_with_trades)\n",
    "\n",
    "save_report(time_start, time_end, overall_profit, profit_by_pairs, profit_by_pair_bitcoins,\n",
    "            missing_orders, failed_orders, loss_by_pair, loss_by_pair_bitcoin)"
   ]
  },
  {
   "cell_type": "code",
   "execution_count": null,
   "metadata": {
    "collapsed": true
   },
   "outputs": [],
   "source": []
  }
 ],
 "metadata": {
  "kernelspec": {
   "display_name": "Python 2",
   "language": "python",
   "name": "python2"
  },
  "language_info": {
   "codemirror_mode": {
    "name": "ipython",
    "version": 2
   },
   "file_extension": ".py",
   "mimetype": "text/x-python",
   "name": "python",
   "nbconvert_exporter": "python",
   "pygments_lexer": "ipython2",
   "version": "2.7.13"
  }
 },
 "nbformat": 4,
 "nbformat_minor": 2
}
