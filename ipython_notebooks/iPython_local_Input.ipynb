{
 "cells": [
  {
   "cell_type": "code",
   "execution_count": 1,
   "metadata": {
    "collapsed": true
   },
   "outputs": [],
   "source": [
    "import os\n",
    "import sys\n",
    "\n",
    "# Edit it and put full path for crypto_crawler python project\n",
    "CRYPTO_MODULE = \"C:\\Users\\Dmitry\\PycharmProjects\\untitled\"\n",
    "\n",
    "if CRYPTO_MODULE not in sys.path:\n",
    "    sys.path.append(CRYPTO_MODULE)\n",
    "    \n",
    "# for b in sys.path:\n",
    "#    print b"
   ]
  },
  {
   "cell_type": "code",
   "execution_count": 2,
   "metadata": {
    "collapsed": true
   },
   "outputs": [],
   "source": [
    "from dao.db import init_pg_connection\n",
    "pg_conn = init_pg_connection(_db_host=\"orders.cervsj06c8zw.us-west-1.rds.amazonaws.com\",\n",
    "                                 _db_port=5432, _db_name=\"crypto\")"
   ]
  },
  {
   "cell_type": "code",
   "execution_count": 3,
   "metadata": {
    "collapsed": true
   },
   "outputs": [],
   "source": [
    "from utils.time_utils import get_now_seconds_utc\n",
    "\n",
    "# Before stage of analysis we will try to update our db from info from exchange\n",
    "should_fetch_data = False\n",
    "\n",
    "# Epoch format !\n",
    "time_end = get_now_seconds_utc()\n",
    "time_start = time_end - 1 * 24 * 60 * 60\n",
    "\n",
    "api_key_full_path = \"C:\\Users\\Dmitry\\PycharmProjects\\untitled\\secret_keys\""
   ]
  },
  {
   "cell_type": "code",
   "execution_count": 5,
   "metadata": {},
   "outputs": [],
   "source": [
    "from analysis.data_load_for_profit_report import fetch_trades_history_to_db\n",
    "from analysis.grouping_utils import group_trades_by_orders, group_by_pair_id\n",
    "from analysis.data_preparation import prepare_data\n",
    "from analysis.binance_order_by_trades import group_binance_trades_per_order\n",
    "from utils.key_utils import load_keys\n",
    "from collections import defaultdict, Counter\n",
    "\n",
    "\n",
    "load_keys(api_key_full_path)\n",
    "\n",
    "if should_fetch_data:\n",
    "    fetch_trades_history_to_db(pg_conn, time_start)\n",
    "    \n",
    "\n",
    "# Load data from DB\n",
    "orders, history_trades, binance_trades, binance_orders_at_bot, binance_orders_at_exchange = prepare_data(pg_conn, time_start)\n",
    "\n",
    "# Group trades by orders\n",
    "missing_orders, failed_orders, orders_with_trades = group_trades_by_orders(orders, history_trades, binance_orders_at_exchange)\n",
    "\n",
    "# Group trades by orders for Binance\n",
    "binance_trades_group_by_pair = group_by_pair_id(binance_trades)\n",
    "binance_orders_with_trades = group_binance_trades_per_order(binance_orders_at_exchange, binance_trades_group_by_pair, binance_orders_at_bot)\n",
    "\n",
    "orders_with_trades += binance_orders_with_trades\n",
    "\n",
    "# Bucketing all that crap by pair_id\n",
    "trades_to_order = defaultdict(list)\n",
    "for order, trade_list in orders_with_trades:\n",
    "    trades_to_order[order.pair_id].append( (order, trade_list))"
   ]
  },
  {
   "cell_type": "code",
   "execution_count": 7,
   "metadata": {},
   "outputs": [],
   "source": [
    "from analysis.profit_report_analysis import compute_loss, compute_profit_by_pair, save_report\n",
    "\n",
    "profit_by_pairs = Counter()\n",
    "profit_by_pair_bitcoins = Counter()\n",
    "\n",
    "for pair_id in trades_to_order:\n",
    "    profit_by_pairs[pair_id], profit_by_pair_bitcoins[pair_id] = compute_profit_by_pair(pair_id, trades_to_order[pair_id])\n",
    "\n",
    "overall_profit = sum(profit_by_pair_bitcoins.itervalues())\n",
    "\n",
    "loss_by_pair, loss_by_pair_bitcoin = compute_loss(orders_with_trades)\n",
    "\n",
    "save_report(time_start, time_end, overall_profit, profit_by_pairs, profit_by_pair_bitcoins,\n",
    "            missing_orders, failed_orders, loss_by_pair, loss_by_pair_bitcoin)"
   ]
  },
  {
   "cell_type": "code",
   "execution_count": null,
   "metadata": {
    "collapsed": true
   },
   "outputs": [],
   "source": []
  }
 ],
 "metadata": {
  "kernelspec": {
   "display_name": "Python 2",
   "language": "python",
   "name": "python2"
  },
  "language_info": {
   "codemirror_mode": {
    "name": "ipython",
    "version": 2
   },
   "file_extension": ".py",
   "mimetype": "text/x-python",
   "name": "python",
   "nbconvert_exporter": "python",
   "pygments_lexer": "ipython2",
   "version": "2.7.13"
  }
 },
 "nbformat": 4,
 "nbformat_minor": 2
}
